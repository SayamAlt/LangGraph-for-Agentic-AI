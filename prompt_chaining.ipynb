{
 "cells": [
  {
   "cell_type": "code",
   "execution_count": 35,
   "id": "dca4549d",
   "metadata": {},
   "outputs": [
    {
     "data": {
      "text/plain": [
       "True"
      ]
     },
     "execution_count": 35,
     "metadata": {},
     "output_type": "execute_result"
    }
   ],
   "source": [
    "from langgraph.graph import StateGraph, START, END\n",
    "from langchain_openai import ChatOpenAI\n",
    "from typing import TypedDict\n",
    "from dotenv import load_dotenv\n",
    "from langchain_core.output_parsers import StrOutputParser\n",
    "from langchain_core.prompts import PromptTemplate\n",
    "\n",
    "load_dotenv()"
   ]
  },
  {
   "cell_type": "code",
   "execution_count": 31,
   "id": "b38f9e2b",
   "metadata": {},
   "outputs": [],
   "source": [
    "model = ChatOpenAI()\n",
    "parser = StrOutputParser()"
   ]
  },
  {
   "cell_type": "code",
   "execution_count": null,
   "id": "d9f8dfb8",
   "metadata": {},
   "outputs": [],
   "source": [
    "class BlogState(TypedDict):\n",
    "    title: str\n",
    "    outline: str\n",
    "    content: str\n",
    "    evaluation_score: float"
   ]
  },
  {
   "cell_type": "code",
   "execution_count": 22,
   "id": "38ce05c2",
   "metadata": {},
   "outputs": [],
   "source": [
    "def generate_outline(state: BlogState) -> BlogState:\n",
    "    # Extract title from the state\n",
    "    title = state['title']\n",
    "    # Create a prompt\n",
    "    prompt = f\"Generate a detailed outline for a blog post titled: {title}\"\n",
    "    # Invoke the LLM\n",
    "    response = model.invoke(prompt)\n",
    "    # Update the state with the generated outline\n",
    "    state['outline'] = response.content\n",
    "    return state"
   ]
  },
  {
   "cell_type": "code",
   "execution_count": 23,
   "id": "bbe30882",
   "metadata": {},
   "outputs": [],
   "source": [
    "def generate_blog(state: BlogState) -> BlogState:\n",
    "    # Extract title and outline from the state\n",
    "    title = state['title']\n",
    "    outline = state['outline']\n",
    "    \n",
    "    # Create a prompt \n",
    "    prompt = f'Generate a detailed blog on the title {title} using the following outline:\\n{outline}'\n",
    "    \n",
    "    # Invoke the LLM\n",
    "    response = model.invoke(prompt)\n",
    "    # Update the state with the generated content\n",
    "    state['content'] = response.content\n",
    "    return state"
   ]
  },
  {
   "cell_type": "code",
   "execution_count": 48,
   "id": "31fe3710",
   "metadata": {},
   "outputs": [],
   "source": [
    "def evaluate_blog(state: BlogState) -> BlogState:\n",
    "    # Extract content from the state\n",
    "    content = state['content']\n",
    "    \n",
    "    # Create a prompt for evaluation\n",
    "    prompt = PromptTemplate(template=\"Evaluate the following blog content:\\n{content}\\nGive a total score on a scale of 1 to 10 based on clarity, engagement, and informativeness. Only provide the total score, noting else.\",\n",
    "                            input_variables=[\"content\"])\n",
    "    \n",
    "    # Create a chain\n",
    "    chain = prompt | model | parser\n",
    "    \n",
    "    # Invoke the LLM\n",
    "    response = chain.invoke({\"content\": content})\n",
    "    \n",
    "    # Update the state with the evaluation score\n",
    "    state['evaluation_score'] = float(response.strip())\n",
    "    return state"
   ]
  },
  {
   "cell_type": "code",
   "execution_count": 49,
   "id": "40437eac",
   "metadata": {},
   "outputs": [],
   "source": [
    "# Define the state graph\n",
    "graph = StateGraph(BlogState)\n",
    "\n",
    "# Add nodes to the graph\n",
    "graph.add_node('generate_outline', generate_outline)\n",
    "graph.add_node('generate_blog', generate_blog)\n",
    "graph.add_node('evaluate_blog', evaluate_blog)\n",
    "\n",
    "# Add edges to connect the nodes\n",
    "graph.add_edge(START, 'generate_outline')\n",
    "graph.add_edge('generate_outline', 'generate_blog')\n",
    "graph.add_edge('generate_blog', 'evaluate_blog')\n",
    "graph.add_edge('evaluate_blog', END)\n",
    "\n",
    "# Compile the graph\n",
    "workflow = graph.compile()"
   ]
  },
  {
   "cell_type": "code",
   "execution_count": 50,
   "id": "09ad4d34",
   "metadata": {},
   "outputs": [
    {
     "name": "stdout",
     "output_type": "stream",
     "text": [
      "Final State: {'title': 'Rise of AI in Sweden', 'outline': \"I. Introduction\\n    A. Explanation of AI and its significance\\n    B. Overview of Sweden's growing investment in AI technology\\n    C. Preview of key points to be discussed in the blog post\\n\\nII. History of AI in Sweden\\n    A. Early adoption of AI technology in Swedish industries\\n    B. Government initiatives to promote AI research and development\\n    C. Established AI companies in Sweden\\n\\nIII. Current AI Landscape in Sweden\\n    A. Overview of AI startups and research institutions in Sweden\\n    B. Industries leveraging AI technology in Sweden\\n    C. Impact of AI on the Swedish economy and society\\n\\nIV. Government Support for AI in Sweden\\n    A. Funding and grants for AI research and development projects\\n    B. Policies and regulations promoting the responsible use of AI technology\\n    C. Collaboration between government, academia, and industry in advancing AI in Sweden\\n\\nV. Challenges and Opportunities\\n    A. Ethical considerations surrounding AI technology in Sweden\\n    B. Skills gap in AI talent and efforts to address this issue\\n    C. Opportunities for innovation and growth in the AI sector in Sweden\\n\\nVI. Case Studies\\n    A. Examples of successful AI implementations in Swedish companies\\n    B. Impact of AI on specific industries in Sweden\\n    C. Future outlook for AI adoption in different sectors in Sweden\\n\\nVII. Conclusion\\n    A. Recap of key points discussed in the blog post\\n    B. Summary of Sweden's rise in AI technology and its potential for future growth\\n    C. Call to action for readers to stay informed about the latest developments in AI in Sweden.\", 'content': \"I. Introduction\\n\\nArtificial Intelligence (AI) is a transformative technology that is revolutionizing industries and societies across the world. In Sweden, there has been a significant rise in investment and interest in AI technology, positioning the country as a leader in the AI landscape. In this blog post, we will explore the history of AI in Sweden, the current AI landscape, government support for AI initiatives, challenges and opportunities, case studies of successful AI implementations, and the future outlook for AI in Sweden.\\n\\nII. History of AI in Sweden\\n\\nSweden has been an early adopter of AI technology, with industries such as automotive, healthcare, and finance leading the way in implementing AI solutions. The Swedish government has also played a crucial role in promoting AI research and development through various initiatives and collaborations. Established AI companies in Sweden, such as Peltarion and Element AI, have been driving innovation in the field.\\n\\nIII. Current AI Landscape in Sweden\\n\\nThe AI ecosystem in Sweden is thriving, with a growing number of AI startups and research institutions contributing to the development of cutting-edge AI technologies. Industries such as manufacturing, transportation, and retail are leveraging AI to improve efficiency, productivity, and customer experience. The impact of AI on the Swedish economy and society is significant, driving growth and innovation across various sectors.\\n\\nIV. Government Support for AI in Sweden\\n\\nThe Swedish government provides funding and grants for AI research and development projects, supporting the growth of the AI sector in the country. Policies and regulations are in place to promote the responsible use of AI technology, ensuring ethical considerations are addressed. Collaboration between government, academia, and industry is key in advancing AI in Sweden and driving innovation.\\n\\nV. Challenges and Opportunities\\n\\nDespite the rapid growth of AI technology in Sweden, there are challenges to be addressed, such as ethical considerations surrounding AI algorithms and the skills gap in AI talent. Efforts are being made to address these challenges and seize the opportunities for innovation and growth in the AI sector in Sweden.\\n\\nVI. Case Studies\\n\\nCase studies of successful AI implementations in Swedish companies showcase the real-world impact of AI technology on various industries. The future outlook for AI adoption in sectors such as transportation, healthcare, and finance is promising, with opportunities for further advancements in AI technology.\\n\\nVII. Conclusion\\n\\nIn conclusion, Sweden's rise in AI technology is a testament to the country's commitment to innovation and collaboration. The potential for future growth in the AI sector in Sweden is immense, with opportunities for businesses, researchers, and society as a whole. As AI continues to evolve, it is important for readers to stay informed about the latest developments in AI in Sweden and to actively participate in the conversation surrounding AI technology.\", 'evaluation_score': 9.0}\n"
     ]
    }
   ],
   "source": [
    "# Invoke the graph with an initial state\n",
    "initial_state = BlogState(title='Rise of AI in Sweden', outline='', content='')\n",
    "final_state = workflow.invoke(initial_state)\n",
    "print(\"Final State:\", final_state)"
   ]
  },
  {
   "cell_type": "code",
   "execution_count": 51,
   "id": "ed289e87",
   "metadata": {},
   "outputs": [
    {
     "name": "stdout",
     "output_type": "stream",
     "text": [
      "Generated outline:\n",
      "\n",
      " I. Introduction\n",
      "    A. Explanation of AI and its significance\n",
      "    B. Overview of Sweden's growing investment in AI technology\n",
      "    C. Preview of key points to be discussed in the blog post\n",
      "\n",
      "II. History of AI in Sweden\n",
      "    A. Early adoption of AI technology in Swedish industries\n",
      "    B. Government initiatives to promote AI research and development\n",
      "    C. Established AI companies in Sweden\n",
      "\n",
      "III. Current AI Landscape in Sweden\n",
      "    A. Overview of AI startups and research institutions in Sweden\n",
      "    B. Industries leveraging AI technology in Sweden\n",
      "    C. Impact of AI on the Swedish economy and society\n",
      "\n",
      "IV. Government Support for AI in Sweden\n",
      "    A. Funding and grants for AI research and development projects\n",
      "    B. Policies and regulations promoting the responsible use of AI technology\n",
      "    C. Collaboration between government, academia, and industry in advancing AI in Sweden\n",
      "\n",
      "V. Challenges and Opportunities\n",
      "    A. Ethical considerations surrounding AI technology in Sweden\n",
      "    B. Skills gap in AI talent and efforts to address this issue\n",
      "    C. Opportunities for innovation and growth in the AI sector in Sweden\n",
      "\n",
      "VI. Case Studies\n",
      "    A. Examples of successful AI implementations in Swedish companies\n",
      "    B. Impact of AI on specific industries in Sweden\n",
      "    C. Future outlook for AI adoption in different sectors in Sweden\n",
      "\n",
      "VII. Conclusion\n",
      "    A. Recap of key points discussed in the blog post\n",
      "    B. Summary of Sweden's rise in AI technology and its potential for future growth\n",
      "    C. Call to action for readers to stay informed about the latest developments in AI in Sweden.\n"
     ]
    }
   ],
   "source": [
    "print(\"Generated outline:\\n\\n\", final_state['outline'])"
   ]
  },
  {
   "cell_type": "code",
   "execution_count": 52,
   "id": "eaefba70",
   "metadata": {},
   "outputs": [
    {
     "name": "stdout",
     "output_type": "stream",
     "text": [
      "Generated blog content:\n",
      "\n",
      " I. Introduction\n",
      "\n",
      "Artificial Intelligence (AI) is a transformative technology that is revolutionizing industries and societies across the world. In Sweden, there has been a significant rise in investment and interest in AI technology, positioning the country as a leader in the AI landscape. In this blog post, we will explore the history of AI in Sweden, the current AI landscape, government support for AI initiatives, challenges and opportunities, case studies of successful AI implementations, and the future outlook for AI in Sweden.\n",
      "\n",
      "II. History of AI in Sweden\n",
      "\n",
      "Sweden has been an early adopter of AI technology, with industries such as automotive, healthcare, and finance leading the way in implementing AI solutions. The Swedish government has also played a crucial role in promoting AI research and development through various initiatives and collaborations. Established AI companies in Sweden, such as Peltarion and Element AI, have been driving innovation in the field.\n",
      "\n",
      "III. Current AI Landscape in Sweden\n",
      "\n",
      "The AI ecosystem in Sweden is thriving, with a growing number of AI startups and research institutions contributing to the development of cutting-edge AI technologies. Industries such as manufacturing, transportation, and retail are leveraging AI to improve efficiency, productivity, and customer experience. The impact of AI on the Swedish economy and society is significant, driving growth and innovation across various sectors.\n",
      "\n",
      "IV. Government Support for AI in Sweden\n",
      "\n",
      "The Swedish government provides funding and grants for AI research and development projects, supporting the growth of the AI sector in the country. Policies and regulations are in place to promote the responsible use of AI technology, ensuring ethical considerations are addressed. Collaboration between government, academia, and industry is key in advancing AI in Sweden and driving innovation.\n",
      "\n",
      "V. Challenges and Opportunities\n",
      "\n",
      "Despite the rapid growth of AI technology in Sweden, there are challenges to be addressed, such as ethical considerations surrounding AI algorithms and the skills gap in AI talent. Efforts are being made to address these challenges and seize the opportunities for innovation and growth in the AI sector in Sweden.\n",
      "\n",
      "VI. Case Studies\n",
      "\n",
      "Case studies of successful AI implementations in Swedish companies showcase the real-world impact of AI technology on various industries. The future outlook for AI adoption in sectors such as transportation, healthcare, and finance is promising, with opportunities for further advancements in AI technology.\n",
      "\n",
      "VII. Conclusion\n",
      "\n",
      "In conclusion, Sweden's rise in AI technology is a testament to the country's commitment to innovation and collaboration. The potential for future growth in the AI sector in Sweden is immense, with opportunities for businesses, researchers, and society as a whole. As AI continues to evolve, it is important for readers to stay informed about the latest developments in AI in Sweden and to actively participate in the conversation surrounding AI technology.\n"
     ]
    }
   ],
   "source": [
    "blog_content = final_state['content']\n",
    "print(\"Generated blog content:\\n\\n\", blog_content)"
   ]
  },
  {
   "cell_type": "code",
   "execution_count": 53,
   "id": "f6aa2d1d",
   "metadata": {},
   "outputs": [
    {
     "name": "stdout",
     "output_type": "stream",
     "text": [
      "Evaluation Score: 9.0\n"
     ]
    }
   ],
   "source": [
    "print(\"Evaluation Score:\", final_state['evaluation_score'])"
   ]
  }
 ],
 "metadata": {
  "kernelspec": {
   "display_name": "3.10.13",
   "language": "python",
   "name": "python3"
  },
  "language_info": {
   "codemirror_mode": {
    "name": "ipython",
    "version": 3
   },
   "file_extension": ".py",
   "mimetype": "text/x-python",
   "name": "python",
   "nbconvert_exporter": "python",
   "pygments_lexer": "ipython3",
   "version": "3.10.13"
  }
 },
 "nbformat": 4,
 "nbformat_minor": 5
}
