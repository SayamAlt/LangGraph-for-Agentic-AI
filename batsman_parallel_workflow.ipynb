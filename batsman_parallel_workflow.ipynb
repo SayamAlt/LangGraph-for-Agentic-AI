{
 "cells": [
  {
   "cell_type": "code",
   "execution_count": 2,
   "id": "fbe34ea0",
   "metadata": {},
   "outputs": [],
   "source": [
    "from langgraph.graph import StateGraph, START, END\n",
    "from typing import TypedDict"
   ]
  },
  {
   "cell_type": "code",
   "execution_count": 7,
   "id": "4d055b21",
   "metadata": {},
   "outputs": [],
   "source": [
    "class BatsmanState(TypedDict):\n",
    "    runs: int\n",
    "    balls_faced: int\n",
    "    fours: int\n",
    "    sixes: int\n",
    "    strike_rate: float\n",
    "    balls_per_boundary: float\n",
    "    boundary_percentage: float\n",
    "    summary: str"
   ]
  },
  {
   "cell_type": "code",
   "execution_count": 14,
   "id": "bec35de1",
   "metadata": {},
   "outputs": [],
   "source": [
    "def calculate_strike_rate(state: BatsmanState):\n",
    "    if state['balls_faced'] == 0:\n",
    "        state['strike_rate'] = 0.0\n",
    "    else:\n",
    "        strike_rate = (state['runs'] / state['balls_faced']) * 100\n",
    "    return {'strike_rate': strike_rate}"
   ]
  },
  {
   "cell_type": "code",
   "execution_count": 15,
   "id": "83295980",
   "metadata": {},
   "outputs": [],
   "source": [
    "def calculate_balls_per_boundary(state: BatsmanState):\n",
    "    if state['fours'] + state['sixes'] == 0:\n",
    "        state['balls_per_boundary'] = float('inf')\n",
    "    else:\n",
    "        bpb = state['balls_faced'] / (state['fours'] + state['sixes'])\n",
    "    return {'balls_per_boundary': bpb}"
   ]
  },
  {
   "cell_type": "code",
   "execution_count": 16,
   "id": "fe55e911",
   "metadata": {},
   "outputs": [],
   "source": [
    "def calculate_boundary_percentage(state: BatsmanState) -> BatsmanState:\n",
    "    if state['runs'] == 0:\n",
    "        state['boundary_percentage'] = 0.0\n",
    "    else:\n",
    "        bp = ((state['fours'] * 4 + state['sixes'] * 6) / state['runs']) * 100\n",
    "    return {'boundary_percentage': bp}"
   ]
  },
  {
   "cell_type": "code",
   "execution_count": 17,
   "id": "7aee0124",
   "metadata": {},
   "outputs": [],
   "source": [
    "def generate_summary(state: BatsmanState) -> BatsmanState:\n",
    "    summary = f\"\"\"\n",
    "          Strike Rate: {state['strike_rate']:.2f} \\n\n",
    "          Balls Per Boundary: {state['balls_per_boundary']:.2f} \\n\n",
    "          Boundary Percentage: {state['boundary_percentage']:.2f}%\n",
    "    \"\"\"\n",
    "    return {'summary': summary}"
   ]
  },
  {
   "cell_type": "code",
   "execution_count": 18,
   "id": "99582a47",
   "metadata": {},
   "outputs": [
    {
     "data": {
      "image/png": "[encoded data removed]",
      "text/plain": [
       "<langgraph.graph.state.CompiledStateGraph object at 0x1098c2740>"
      ]
     },
     "execution_count": 18,
     "metadata": {},
     "output_type": "execute_result"
    }
   ],
   "source": [
    "# Define the state graph\n",
    "graph = StateGraph(BatsmanState)\n",
    "\n",
    "# Add nodes to the graph\n",
    "graph.add_node(\"calculate_strike_rate\",calculate_strike_rate)\n",
    "graph.add_node(\"calculate_balls_per_boundary\", calculate_balls_per_boundary)\n",
    "graph.add_node(\"calculate_boundary_percentage\", calculate_boundary_percentage)\n",
    "graph.add_node(\"generate_summary\", generate_summary)\n",
    "\n",
    "# Add edges to the graph\n",
    "graph.add_edge(START, \"calculate_strike_rate\")\n",
    "graph.add_edge(START, \"calculate_balls_per_boundary\")\n",
    "graph.add_edge(START, \"calculate_boundary_percentage\")\n",
    "graph.add_edge(\"calculate_strike_rate\", \"generate_summary\")\n",
    "graph.add_edge(\"calculate_balls_per_boundary\", \"generate_summary\")\n",
    "graph.add_edge(\"calculate_boundary_percentage\", \"generate_summary\")\n",
    "graph.add_edge(\"generate_summary\", END)\n",
    "\n",
    "# Compile the graph\n",
    "workflow = graph.compile()\n",
    "workflow"
   ]
  },
  {
   "cell_type": "code",
   "execution_count": 20,
   "id": "29397851",
   "metadata": {},
   "outputs": [
    {
     "name": "stdout",
     "output_type": "stream",
     "text": [
      "{'runs': 120, 'balls_faced': 100, 'fours': 12, 'sixes': 4, 'strike_rate': 120.0, 'balls_per_boundary': 6.25, 'boundary_percentage': 60.0, 'summary': '\\n          Strike Rate: 120.00 \\n\\n          Balls Per Boundary: 6.25 \\n\\n          Boundary Percentage: 60.00%\\n    '}\n"
     ]
    }
   ],
   "source": [
    "# Execute the workflow with an initial state\n",
    "initial_state = {\n",
    "    'runs': 120,\n",
    "    'balls_faced': 100,\n",
    "    'fours': 12,\n",
    "    'sixes': 4\n",
    "}\n",
    "\n",
    "final_state = workflow.invoke(initial_state)\n",
    "print(final_state)"
   ]
  },
  {
   "cell_type": "code",
   "execution_count": 22,
   "id": "8ea2725d",
   "metadata": {},
   "outputs": [
    {
     "name": "stdout",
     "output_type": "stream",
     "text": [
      "Final summary:\n",
      "  \n",
      "          Strike Rate: 120.00 \n",
      "\n",
      "          Balls Per Boundary: 6.25 \n",
      "\n",
      "          Boundary Percentage: 60.00%\n",
      "    \n"
     ]
    }
   ],
   "source": [
    "print(\"Final summary:\\n \", final_state['summary'])"
   ]
  }
 ],
 "metadata": {
  "kernelspec": {
   "display_name": "3.10.13",
   "language": "python",
   "name": "python3"
  },
  "language_info": {
   "codemirror_mode": {
    "name": "ipython",
    "version": 3
   },
   "file_extension": ".py",
   "mimetype": "text/x-python",
   "name": "python",
   "nbconvert_exporter": "python",
   "pygments_lexer": "ipython3",
   "version": "3.10.13"
  }
 },
 "nbformat": 4,
 "nbformat_minor": 5
}
