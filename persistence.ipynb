{
 "cells": [
  {
   "cell_type": "code",
   "execution_count": 1,
   "id": "cc246b0a",
   "metadata": {},
   "outputs": [],
   "source": [
    "from langgraph.graph import StateGraph, START, END\n",
    "from langchain_openai import ChatOpenAI\n",
    "from dotenv import load_dotenv\n",
    "from langgraph.checkpoint.memory import InMemorySaver\n",
    "from typing import TypedDict"
   ]
  },
  {
   "cell_type": "code",
   "execution_count": 2,
   "id": "b42349a1",
   "metadata": {},
   "outputs": [
    {
     "data": {
      "text/plain": [
       "True"
      ]
     },
     "execution_count": 2,
     "metadata": {},
     "output_type": "execute_result"
    }
   ],
   "source": [
    "load_dotenv()"
   ]
  },
  {
   "cell_type": "code",
   "execution_count": 3,
   "id": "433fff95",
   "metadata": {},
   "outputs": [],
   "source": [
    "llm = ChatOpenAI()"
   ]
  },
  {
   "cell_type": "code",
   "execution_count": 4,
   "id": "0f07d9a8",
   "metadata": {},
   "outputs": [],
   "source": [
    "class JokeState(TypedDict):\n",
    "    topic: str\n",
    "    joke: str\n",
    "    explanation: str"
   ]
  },
  {
   "cell_type": "code",
   "execution_count": 5,
   "id": "d2f18a81",
   "metadata": {},
   "outputs": [],
   "source": [
    "def generate_joke(state: JokeState):\n",
    "    prompt = f\"Generate a joke on the topic {state['topic']}\"\n",
    "    response = llm.invoke(prompt)\n",
    "    return {'joke': response.content}"
   ]
  },
  {
   "cell_type": "code",
   "execution_count": 6,
   "id": "01fb2c3e",
   "metadata": {},
   "outputs": [],
   "source": [
    "def explain_joke(state: JokeState):\n",
    "    prompt = f\"Write an explanation for the following joke: {state['joke']}\"\n",
    "    response = llm.invoke(prompt)\n",
    "    return {'explanation': response.content}"
   ]
  },
  {
   "cell_type": "code",
   "execution_count": 7,
   "id": "fcacf549",
   "metadata": {},
   "outputs": [
    {
     "data": {
      "image/png": "[encoded data removed]",
      "text/plain": [
       "<langgraph.graph.state.CompiledStateGraph object at 0x10e5a2d10>"
      ]
     },
     "execution_count": 7,
     "metadata": {},
     "output_type": "execute_result"
    }
   ],
   "source": [
    "# Create a state graph\n",
    "graph = StateGraph(JokeState)\n",
    "\n",
    "# Add nodes to the graph\n",
    "graph.add_node(\"generate_joke\", generate_joke)\n",
    "graph.add_node(\"explain_joke\", explain_joke)\n",
    "\n",
    "# Add edges to the graph\n",
    "graph.add_edge(START, \"generate_joke\")\n",
    "graph.add_edge(\"generate_joke\", \"explain_joke\")\n",
    "graph.add_edge(\"explain_joke\", END)\n",
    "\n",
    "# Compile the graph\n",
    "checkpointer = InMemorySaver() # To save checkpoints for persistence\n",
    "workflow = graph.compile(checkpointer=checkpointer)\n",
    "workflow"
   ]
  },
  {
   "cell_type": "code",
   "execution_count": 8,
   "id": "14d4a3ce",
   "metadata": {},
   "outputs": [
    {
     "data": {
      "text/plain": [
       "{'topic': 'pizza',\n",
       " 'joke': 'Why did the pizza go to the doctor? Because it was feeling a little cheesy!',\n",
       " 'explanation': 'This joke plays on the double meaning of the word \"cheesy.\" In one sense, \"cheesy\" typically refers to something of low quality or inauthentic, often used to describe a joke or pun that is not very funny. In this case, the pizza is \"feeling cheesy\" because it is a pizza covered in cheese.\\n\\nHowever, in a more literal sense, \"cheesy\" can also refer to something that is overly sentimental or overly emotional. So, when the joke says the pizza went to the doctor because it was feeling \"cheesy,\" it is playing on the idea that the pizza, covered in cheese, is feeling emotional or sentimental. This adds a humorous twist to the joke and makes it a clever play on words.'}"
      ]
     },
     "execution_count": 8,
     "metadata": {},
     "output_type": "execute_result"
    }
   ],
   "source": [
    "initial_config = {\n",
    "    \"configurable\": {\"thread_id\": \"1\"}\n",
    "}\n",
    "\n",
    "# Execute the workflow with an initial state\n",
    "workflow.invoke({'topic': 'pizza'}, config=initial_config)"
   ]
  },
  {
   "cell_type": "code",
   "execution_count": 9,
   "id": "65f29a03",
   "metadata": {},
   "outputs": [
    {
     "data": {
      "text/plain": [
       "StateSnapshot(values={'topic': 'pizza', 'joke': 'Why did the pizza go to the doctor? Because it was feeling a little cheesy!', 'explanation': 'This joke plays on the double meaning of the word \"cheesy.\" In one sense, \"cheesy\" typically refers to something of low quality or inauthentic, often used to describe a joke or pun that is not very funny. In this case, the pizza is \"feeling cheesy\" because it is a pizza covered in cheese.\\n\\nHowever, in a more literal sense, \"cheesy\" can also refer to something that is overly sentimental or overly emotional. So, when the joke says the pizza went to the doctor because it was feeling \"cheesy,\" it is playing on the idea that the pizza, covered in cheese, is feeling emotional or sentimental. This adds a humorous twist to the joke and makes it a clever play on words.'}, next=(), config={'configurable': {'thread_id': '1', 'checkpoint_ns': '', 'checkpoint_id': '1f07010f-1a2f-6c42-8002-188aed129cca'}}, metadata={'source': 'loop', 'step': 2, 'parents': {}, 'thread_id': '1'}, created_at='2025-08-03T02:24:12.426305+00:00', parent_config={'configurable': {'thread_id': '1', 'checkpoint_ns': '', 'checkpoint_id': '1f07010f-0ca1-6ce2-8001-016fd51501ee'}}, tasks=(), interrupts=())"
      ]
     },
     "execution_count": 9,
     "metadata": {},
     "output_type": "execute_result"
    }
   ],
   "source": [
    "workflow.get_state(config=initial_config)"
   ]
  },
  {
   "cell_type": "code",
   "execution_count": 10,
   "id": "2f027c6e",
   "metadata": {},
   "outputs": [
    {
     "data": {
      "text/plain": [
       "[StateSnapshot(values={'topic': 'pizza', 'joke': 'Why did the pizza go to the doctor? Because it was feeling a little cheesy!', 'explanation': 'This joke plays on the double meaning of the word \"cheesy.\" In one sense, \"cheesy\" typically refers to something of low quality or inauthentic, often used to describe a joke or pun that is not very funny. In this case, the pizza is \"feeling cheesy\" because it is a pizza covered in cheese.\\n\\nHowever, in a more literal sense, \"cheesy\" can also refer to something that is overly sentimental or overly emotional. So, when the joke says the pizza went to the doctor because it was feeling \"cheesy,\" it is playing on the idea that the pizza, covered in cheese, is feeling emotional or sentimental. This adds a humorous twist to the joke and makes it a clever play on words.'}, next=(), config={'configurable': {'thread_id': '1', 'checkpoint_ns': '', 'checkpoint_id': '1f07010f-1a2f-6c42-8002-188aed129cca'}}, metadata={'source': 'loop', 'step': 2, 'parents': {}, 'thread_id': '1'}, created_at='2025-08-03T02:24:12.426305+00:00', parent_config={'configurable': {'thread_id': '1', 'checkpoint_ns': '', 'checkpoint_id': '1f07010f-0ca1-6ce2-8001-016fd51501ee'}}, tasks=(), interrupts=()),\n",
       " StateSnapshot(values={'topic': 'pizza', 'joke': 'Why did the pizza go to the doctor? Because it was feeling a little cheesy!'}, next=('explain_joke',), config={'configurable': {'thread_id': '1', 'checkpoint_ns': '', 'checkpoint_id': '1f07010f-0ca1-6ce2-8001-016fd51501ee'}}, metadata={'source': 'loop', 'step': 1, 'parents': {}, 'thread_id': '1'}, created_at='2025-08-03T02:24:11.004974+00:00', parent_config={'configurable': {'thread_id': '1', 'checkpoint_ns': '', 'checkpoint_id': '1f07010f-06da-6f48-8000-b274399c70fd'}}, tasks=(PregelTask(id='f487527c-962f-862f-6311-00d7b7d177c7', name='explain_joke', path=('__pregel_pull', 'explain_joke'), error=None, interrupts=(), state=None, result={'explanation': 'This joke plays on the double meaning of the word \"cheesy.\" In one sense, \"cheesy\" typically refers to something of low quality or inauthentic, often used to describe a joke or pun that is not very funny. In this case, the pizza is \"feeling cheesy\" because it is a pizza covered in cheese.\\n\\nHowever, in a more literal sense, \"cheesy\" can also refer to something that is overly sentimental or overly emotional. So, when the joke says the pizza went to the doctor because it was feeling \"cheesy,\" it is playing on the idea that the pizza, covered in cheese, is feeling emotional or sentimental. This adds a humorous twist to the joke and makes it a clever play on words.'}),), interrupts=()),\n",
       " StateSnapshot(values={'topic': 'pizza'}, next=('generate_joke',), config={'configurable': {'thread_id': '1', 'checkpoint_ns': '', 'checkpoint_id': '1f07010f-06da-6f48-8000-b274399c70fd'}}, metadata={'source': 'loop', 'step': 0, 'parents': {}, 'thread_id': '1'}, created_at='2025-08-03T02:24:10.399307+00:00', parent_config={'configurable': {'thread_id': '1', 'checkpoint_ns': '', 'checkpoint_id': '1f07010f-06d9-6eea-bfff-ff5c330c4a00'}}, tasks=(PregelTask(id='b484561b-7f2e-716f-d77e-a788f31de8d0', name='generate_joke', path=('__pregel_pull', 'generate_joke'), error=None, interrupts=(), state=None, result={'joke': 'Why did the pizza go to the doctor? Because it was feeling a little cheesy!'}),), interrupts=()),\n",
       " StateSnapshot(values={}, next=('__start__',), config={'configurable': {'thread_id': '1', 'checkpoint_ns': '', 'checkpoint_id': '1f07010f-06d9-6eea-bfff-ff5c330c4a00'}}, metadata={'source': 'input', 'step': -1, 'parents': {}, 'thread_id': '1'}, created_at='2025-08-03T02:24:10.398892+00:00', parent_config=None, tasks=(PregelTask(id='027b2e9f-4fef-199e-c7ec-af80aa35f1c5', name='__start__', path=('__pregel_pull', '__start__'), error=None, interrupts=(), state=None, result={'topic': 'pizza'}),), interrupts=())]"
      ]
     },
     "execution_count": 10,
     "metadata": {},
     "output_type": "execute_result"
    }
   ],
   "source": [
    "list(workflow.get_state_history(config=initial_config))"
   ]
  },
  {
   "cell_type": "code",
   "execution_count": 11,
   "id": "31167133",
   "metadata": {},
   "outputs": [
    {
     "data": {
      "text/plain": [
       "{'topic': 'cars',\n",
       " 'joke': \"Why did the car's engine break up with the transmission?\\n\\nBecause it couldn't handle the constant shifting in their relationship!\",\n",
       " 'explanation': 'This joke plays on the double meaning of the word \"shifting.\" In the context of a relationship, \"shifting\" refers to changes or instability, while in the context of a car, it refers to changing gears. The joke humorously suggests that the engine and transmission of the car broke up because the engine couldn\\'t handle the constant changing or shifting in their relationship, both metaphorically and literally.'}"
      ]
     },
     "execution_count": 11,
     "metadata": {},
     "output_type": "execute_result"
    }
   ],
   "source": [
    "config2 = {\n",
    "    \"configurable\": {\"thread_id\": \"2\"}\n",
    "}\n",
    "\n",
    "workflow.invoke({'topic': 'cars'}, config=config2)"
   ]
  },
  {
   "cell_type": "code",
   "execution_count": 12,
   "id": "c27567d0",
   "metadata": {},
   "outputs": [
    {
     "data": {
      "text/plain": [
       "StateSnapshot(values={'topic': 'cars', 'joke': \"Why did the car's engine break up with the transmission?\\n\\nBecause it couldn't handle the constant shifting in their relationship!\", 'explanation': 'This joke plays on the double meaning of the word \"shifting.\" In the context of a relationship, \"shifting\" refers to changes or instability, while in the context of a car, it refers to changing gears. The joke humorously suggests that the engine and transmission of the car broke up because the engine couldn\\'t handle the constant changing or shifting in their relationship, both metaphorically and literally.'}, next=(), config={'configurable': {'thread_id': '2', 'checkpoint_ns': '', 'checkpoint_id': '1f07010f-2acb-654c-8002-39396e8e9eaa'}}, metadata={'source': 'loop', 'step': 2, 'parents': {}, 'thread_id': '2'}, created_at='2025-08-03T02:24:14.167751+00:00', parent_config={'configurable': {'thread_id': '2', 'checkpoint_ns': '', 'checkpoint_id': '1f07010f-20cb-6ede-8001-40d1d536a0b1'}}, tasks=(), interrupts=())"
      ]
     },
     "execution_count": 12,
     "metadata": {},
     "output_type": "execute_result"
    }
   ],
   "source": [
    "workflow.get_state(config=config2)"
   ]
  },
  {
   "cell_type": "code",
   "execution_count": 13,
   "id": "853c9d6f",
   "metadata": {},
   "outputs": [
    {
     "data": {
      "text/plain": [
       "[StateSnapshot(values={'topic': 'cars', 'joke': \"Why did the car's engine break up with the transmission?\\n\\nBecause it couldn't handle the constant shifting in their relationship!\", 'explanation': 'This joke plays on the double meaning of the word \"shifting.\" In the context of a relationship, \"shifting\" refers to changes or instability, while in the context of a car, it refers to changing gears. The joke humorously suggests that the engine and transmission of the car broke up because the engine couldn\\'t handle the constant changing or shifting in their relationship, both metaphorically and literally.'}, next=(), config={'configurable': {'thread_id': '2', 'checkpoint_ns': '', 'checkpoint_id': '1f07010f-2acb-654c-8002-39396e8e9eaa'}}, metadata={'source': 'loop', 'step': 2, 'parents': {}, 'thread_id': '2'}, created_at='2025-08-03T02:24:14.167751+00:00', parent_config={'configurable': {'thread_id': '2', 'checkpoint_ns': '', 'checkpoint_id': '1f07010f-20cb-6ede-8001-40d1d536a0b1'}}, tasks=(), interrupts=()),\n",
       " StateSnapshot(values={'topic': 'cars', 'joke': \"Why did the car's engine break up with the transmission?\\n\\nBecause it couldn't handle the constant shifting in their relationship!\"}, next=('explain_joke',), config={'configurable': {'thread_id': '2', 'checkpoint_ns': '', 'checkpoint_id': '1f07010f-20cb-6ede-8001-40d1d536a0b1'}}, metadata={'source': 'loop', 'step': 1, 'parents': {}, 'thread_id': '2'}, created_at='2025-08-03T02:24:13.119419+00:00', parent_config={'configurable': {'thread_id': '2', 'checkpoint_ns': '', 'checkpoint_id': '1f07010f-1a84-6d14-8000-a45d4347a2d3'}}, tasks=(PregelTask(id='bf1efd74-cbc1-b292-e226-ff7694d8ee04', name='explain_joke', path=('__pregel_pull', 'explain_joke'), error=None, interrupts=(), state=None, result={'explanation': 'This joke plays on the double meaning of the word \"shifting.\" In the context of a relationship, \"shifting\" refers to changes or instability, while in the context of a car, it refers to changing gears. The joke humorously suggests that the engine and transmission of the car broke up because the engine couldn\\'t handle the constant changing or shifting in their relationship, both metaphorically and literally.'}),), interrupts=()),\n",
       " StateSnapshot(values={'topic': 'cars'}, next=('generate_joke',), config={'configurable': {'thread_id': '2', 'checkpoint_ns': '', 'checkpoint_id': '1f07010f-1a84-6d14-8000-a45d4347a2d3'}}, metadata={'source': 'loop', 'step': 0, 'parents': {}, 'thread_id': '2'}, created_at='2025-08-03T02:24:12.461161+00:00', parent_config={'configurable': {'thread_id': '2', 'checkpoint_ns': '', 'checkpoint_id': '1f07010f-1a82-6e38-bfff-2d488545ed8f'}}, tasks=(PregelTask(id='5ca453ee-54b4-917f-d607-d98279b276e0', name='generate_joke', path=('__pregel_pull', 'generate_joke'), error=None, interrupts=(), state=None, result={'joke': \"Why did the car's engine break up with the transmission?\\n\\nBecause it couldn't handle the constant shifting in their relationship!\"}),), interrupts=()),\n",
       " StateSnapshot(values={}, next=('__start__',), config={'configurable': {'thread_id': '2', 'checkpoint_ns': '', 'checkpoint_id': '1f07010f-1a82-6e38-bfff-2d488545ed8f'}}, metadata={'source': 'input', 'step': -1, 'parents': {}, 'thread_id': '2'}, created_at='2025-08-03T02:24:12.460391+00:00', parent_config=None, tasks=(PregelTask(id='7bec90ce-4a48-1e4d-990d-85a9e89c53a8', name='__start__', path=('__pregel_pull', '__start__'), error=None, interrupts=(), state=None, result={'topic': 'cars'}),), interrupts=())]"
      ]
     },
     "execution_count": 13,
     "metadata": {},
     "output_type": "execute_result"
    }
   ],
   "source": [
    "list(workflow.get_state_history(config=config2))"
   ]
  },
  {
   "cell_type": "code",
   "execution_count": 14,
   "id": "923f7c2b",
   "metadata": {},
   "outputs": [
    {
     "data": {
      "text/plain": [
       "{'topic': 'pizza',\n",
       " 'joke': 'Why did the pizza go to the doctor? Because it was feeling a little cheesy!',\n",
       " 'explanation': 'This joke plays on the double meaning of the word \"cheesy.\" In one sense, \"cheesy\" typically refers to something of low quality or inauthentic, often used to describe a joke or pun that is not very funny. In this case, the pizza is \"feeling cheesy\" because it is a pizza covered in cheese.\\n\\nHowever, in a more literal sense, \"cheesy\" can also refer to something that is overly sentimental or overly emotional. So, when the joke says the pizza went to the doctor because it was feeling \"cheesy,\" it is playing on the idea that the pizza, covered in cheese, is feeling emotional or sentimental. This adds a humorous twist to the joke and makes it a clever play on words.'}"
      ]
     },
     "execution_count": 14,
     "metadata": {},
     "output_type": "execute_result"
    }
   ],
   "source": [
    "workflow.get_state(config=initial_config).values"
   ]
  },
  {
   "cell_type": "code",
   "execution_count": 15,
   "id": "e00cc9a0",
   "metadata": {},
   "outputs": [
    {
     "data": {
      "text/plain": [
       "{'topic': 'cars',\n",
       " 'joke': \"Why did the car's engine break up with the transmission?\\n\\nBecause it couldn't handle the constant shifting in their relationship!\",\n",
       " 'explanation': 'This joke plays on the double meaning of the word \"shifting.\" In the context of a relationship, \"shifting\" refers to changes or instability, while in the context of a car, it refers to changing gears. The joke humorously suggests that the engine and transmission of the car broke up because the engine couldn\\'t handle the constant changing or shifting in their relationship, both metaphorically and literally.'}"
      ]
     },
     "execution_count": 15,
     "metadata": {},
     "output_type": "execute_result"
    }
   ],
   "source": [
    "workflow.get_state(config=config2).values"
   ]
  },
  {
   "cell_type": "markdown",
   "id": "c66a8eda",
   "metadata": {},
   "source": [
    "## Time Travel"
   ]
  },
  {
   "cell_type": "code",
   "execution_count": 16,
   "id": "7d16534e",
   "metadata": {},
   "outputs": [
    {
     "data": {
      "text/plain": [
       "StateSnapshot(values={}, next=(), config={'configurable': {'thread_id': '1', 'checkpoint_id': '1f0700a1-aeeb-65f2-8000-e7e09abe8280'}}, metadata=None, created_at=None, parent_config=None, tasks=(), interrupts=())"
      ]
     },
     "execution_count": 16,
     "metadata": {},
     "output_type": "execute_result"
    }
   ],
   "source": [
    "workflow.get_state(config={\"configurable\": {\"thread_id\": \"1\", \"checkpoint_id\": \"1f0700a1-aeeb-65f2-8000-e7e09abe8280\"}})"
   ]
  },
  {
   "cell_type": "code",
   "execution_count": 17,
   "id": "e4f4cb02",
   "metadata": {},
   "outputs": [
    {
     "ename": "EmptyInputError",
     "evalue": "Received no input for __start__",
     "output_type": "error",
     "traceback": [
      "\u001b[0;31m---------------------------------------------------------------------------\u001b[0m",
      "\u001b[0;31mEmptyInputError\u001b[0m                           Traceback (most recent call last)",
      "Cell \u001b[0;32mIn[17], line 1\u001b[0m\n\u001b[0;32m----> 1\u001b[0m \u001b[43mworkflow\u001b[49m\u001b[38;5;241;43m.\u001b[39;49m\u001b[43minvoke\u001b[49m\u001b[43m(\u001b[49m\u001b[38;5;28;43;01mNone\u001b[39;49;00m\u001b[43m,\u001b[49m\u001b[43m \u001b[49m\u001b[43mconfig\u001b[49m\u001b[38;5;241;43m=\u001b[39;49m\u001b[43m{\u001b[49m\u001b[38;5;124;43m\"\u001b[39;49m\u001b[38;5;124;43mconfigurable\u001b[39;49m\u001b[38;5;124;43m\"\u001b[39;49m\u001b[43m:\u001b[49m\u001b[43m \u001b[49m\u001b[43m{\u001b[49m\u001b[38;5;124;43m\"\u001b[39;49m\u001b[38;5;124;43mthread_id\u001b[39;49m\u001b[38;5;124;43m\"\u001b[39;49m\u001b[43m:\u001b[49m\u001b[43m \u001b[49m\u001b[38;5;124;43m\"\u001b[39;49m\u001b[38;5;124;43m1\u001b[39;49m\u001b[38;5;124;43m\"\u001b[39;49m\u001b[43m,\u001b[49m\u001b[43m \u001b[49m\u001b[38;5;124;43m\"\u001b[39;49m\u001b[38;5;124;43mcheckpoint_id\u001b[39;49m\u001b[38;5;124;43m\"\u001b[39;49m\u001b[43m:\u001b[49m\u001b[43m \u001b[49m\u001b[38;5;124;43m\"\u001b[39;49m\u001b[38;5;124;43m1f0700a1-aeeb-65f2-8000-e7e09abe8280\u001b[39;49m\u001b[38;5;124;43m\"\u001b[39;49m\u001b[43m}\u001b[49m\u001b[43m}\u001b[49m\u001b[43m)\u001b[49m\n",
      "File \u001b[0;32m~/.pyenv/versions/3.10.13/lib/python3.10/site-packages/langgraph/pregel/__init__.py:2844\u001b[0m, in \u001b[0;36mPregel.invoke\u001b[0;34m(self, input, config, stream_mode, print_mode, output_keys, interrupt_before, interrupt_after, **kwargs)\u001b[0m\n\u001b[1;32m   2841\u001b[0m chunks: \u001b[38;5;28mlist\u001b[39m[\u001b[38;5;28mdict\u001b[39m[\u001b[38;5;28mstr\u001b[39m, Any] \u001b[38;5;241m|\u001b[39m Any] \u001b[38;5;241m=\u001b[39m []\n\u001b[1;32m   2842\u001b[0m interrupts: \u001b[38;5;28mlist\u001b[39m[Interrupt] \u001b[38;5;241m=\u001b[39m []\n\u001b[0;32m-> 2844\u001b[0m \u001b[38;5;28;01mfor\u001b[39;00m chunk \u001b[38;5;129;01min\u001b[39;00m \u001b[38;5;28mself\u001b[39m\u001b[38;5;241m.\u001b[39mstream(\n\u001b[1;32m   2845\u001b[0m     \u001b[38;5;28minput\u001b[39m,\n\u001b[1;32m   2846\u001b[0m     config,\n\u001b[1;32m   2847\u001b[0m     stream_mode\u001b[38;5;241m=\u001b[39m[\u001b[38;5;124m\"\u001b[39m\u001b[38;5;124mupdates\u001b[39m\u001b[38;5;124m\"\u001b[39m, \u001b[38;5;124m\"\u001b[39m\u001b[38;5;124mvalues\u001b[39m\u001b[38;5;124m\"\u001b[39m]\n\u001b[1;32m   2848\u001b[0m     \u001b[38;5;28;01mif\u001b[39;00m stream_mode \u001b[38;5;241m==\u001b[39m \u001b[38;5;124m\"\u001b[39m\u001b[38;5;124mvalues\u001b[39m\u001b[38;5;124m\"\u001b[39m\n\u001b[1;32m   2849\u001b[0m     \u001b[38;5;28;01melse\u001b[39;00m stream_mode,\n\u001b[1;32m   2850\u001b[0m     print_mode\u001b[38;5;241m=\u001b[39mprint_mode,\n\u001b[1;32m   2851\u001b[0m     output_keys\u001b[38;5;241m=\u001b[39moutput_keys,\n\u001b[1;32m   2852\u001b[0m     interrupt_before\u001b[38;5;241m=\u001b[39minterrupt_before,\n\u001b[1;32m   2853\u001b[0m     interrupt_after\u001b[38;5;241m=\u001b[39minterrupt_after,\n\u001b[1;32m   2854\u001b[0m     \u001b[38;5;241m*\u001b[39m\u001b[38;5;241m*\u001b[39mkwargs,\n\u001b[1;32m   2855\u001b[0m ):\n\u001b[1;32m   2856\u001b[0m     \u001b[38;5;28;01mif\u001b[39;00m stream_mode \u001b[38;5;241m==\u001b[39m \u001b[38;5;124m\"\u001b[39m\u001b[38;5;124mvalues\u001b[39m\u001b[38;5;124m\"\u001b[39m:\n\u001b[1;32m   2857\u001b[0m         \u001b[38;5;28;01mif\u001b[39;00m \u001b[38;5;28mlen\u001b[39m(chunk) \u001b[38;5;241m==\u001b[39m \u001b[38;5;241m2\u001b[39m:\n",
      "File \u001b[0;32m~/.pyenv/versions/3.10.13/lib/python3.10/site-packages/langgraph/pregel/__init__.py:2467\u001b[0m, in \u001b[0;36mPregel.stream\u001b[0;34m(self, input, config, stream_mode, print_mode, output_keys, interrupt_before, interrupt_after, checkpoint_during, debug, subgraphs)\u001b[0m\n\u001b[1;32m   2465\u001b[0m \u001b[38;5;28;01mif\u001b[39;00m checkpoint_during \u001b[38;5;129;01mis\u001b[39;00m \u001b[38;5;129;01mnot\u001b[39;00m \u001b[38;5;28;01mNone\u001b[39;00m:\n\u001b[1;32m   2466\u001b[0m     config[CONF][CONFIG_KEY_CHECKPOINT_DURING] \u001b[38;5;241m=\u001b[39m checkpoint_during\n\u001b[0;32m-> 2467\u001b[0m \u001b[38;5;28;01mwith\u001b[39;00m SyncPregelLoop(\n\u001b[1;32m   2468\u001b[0m     \u001b[38;5;28minput\u001b[39m,\n\u001b[1;32m   2469\u001b[0m     stream\u001b[38;5;241m=\u001b[39mStreamProtocol(stream\u001b[38;5;241m.\u001b[39mput, stream_modes),\n\u001b[1;32m   2470\u001b[0m     config\u001b[38;5;241m=\u001b[39mconfig,\n\u001b[1;32m   2471\u001b[0m     store\u001b[38;5;241m=\u001b[39mstore,\n\u001b[1;32m   2472\u001b[0m     cache\u001b[38;5;241m=\u001b[39mcache,\n\u001b[1;32m   2473\u001b[0m     checkpointer\u001b[38;5;241m=\u001b[39mcheckpointer,\n\u001b[1;32m   2474\u001b[0m     nodes\u001b[38;5;241m=\u001b[39m\u001b[38;5;28mself\u001b[39m\u001b[38;5;241m.\u001b[39mnodes,\n\u001b[1;32m   2475\u001b[0m     specs\u001b[38;5;241m=\u001b[39m\u001b[38;5;28mself\u001b[39m\u001b[38;5;241m.\u001b[39mchannels,\n\u001b[1;32m   2476\u001b[0m     output_keys\u001b[38;5;241m=\u001b[39moutput_keys,\n\u001b[1;32m   2477\u001b[0m     input_keys\u001b[38;5;241m=\u001b[39m\u001b[38;5;28mself\u001b[39m\u001b[38;5;241m.\u001b[39minput_channels,\n\u001b[1;32m   2478\u001b[0m     stream_keys\u001b[38;5;241m=\u001b[39m\u001b[38;5;28mself\u001b[39m\u001b[38;5;241m.\u001b[39mstream_channels_asis,\n\u001b[1;32m   2479\u001b[0m     interrupt_before\u001b[38;5;241m=\u001b[39minterrupt_before_,\n\u001b[1;32m   2480\u001b[0m     interrupt_after\u001b[38;5;241m=\u001b[39minterrupt_after_,\n\u001b[1;32m   2481\u001b[0m     manager\u001b[38;5;241m=\u001b[39mrun_manager,\n\u001b[1;32m   2482\u001b[0m     checkpoint_during\u001b[38;5;241m=\u001b[39mcheckpoint_during\n\u001b[1;32m   2483\u001b[0m     \u001b[38;5;28;01mif\u001b[39;00m checkpoint_during \u001b[38;5;129;01mis\u001b[39;00m \u001b[38;5;129;01mnot\u001b[39;00m \u001b[38;5;28;01mNone\u001b[39;00m\n\u001b[1;32m   2484\u001b[0m     \u001b[38;5;28;01melse\u001b[39;00m config[CONF]\u001b[38;5;241m.\u001b[39mget(CONFIG_KEY_CHECKPOINT_DURING, \u001b[38;5;28;01mTrue\u001b[39;00m),\n\u001b[1;32m   2485\u001b[0m     trigger_to_nodes\u001b[38;5;241m=\u001b[39m\u001b[38;5;28mself\u001b[39m\u001b[38;5;241m.\u001b[39mtrigger_to_nodes,\n\u001b[1;32m   2486\u001b[0m     migrate_checkpoint\u001b[38;5;241m=\u001b[39m\u001b[38;5;28mself\u001b[39m\u001b[38;5;241m.\u001b[39m_migrate_checkpoint,\n\u001b[1;32m   2487\u001b[0m     retry_policy\u001b[38;5;241m=\u001b[39m\u001b[38;5;28mself\u001b[39m\u001b[38;5;241m.\u001b[39mretry_policy,\n\u001b[1;32m   2488\u001b[0m     cache_policy\u001b[38;5;241m=\u001b[39m\u001b[38;5;28mself\u001b[39m\u001b[38;5;241m.\u001b[39mcache_policy,\n\u001b[1;32m   2489\u001b[0m ) \u001b[38;5;28;01mas\u001b[39;00m loop:\n\u001b[1;32m   2490\u001b[0m     \u001b[38;5;66;03m# create runner\u001b[39;00m\n\u001b[1;32m   2491\u001b[0m     runner \u001b[38;5;241m=\u001b[39m PregelRunner(\n\u001b[1;32m   2492\u001b[0m         submit\u001b[38;5;241m=\u001b[39mconfig[CONF]\u001b[38;5;241m.\u001b[39mget(\n\u001b[1;32m   2493\u001b[0m             CONFIG_KEY_RUNNER_SUBMIT, weakref\u001b[38;5;241m.\u001b[39mWeakMethod(loop\u001b[38;5;241m.\u001b[39msubmit)\n\u001b[0;32m   (...)\u001b[0m\n\u001b[1;32m   2496\u001b[0m         node_finished\u001b[38;5;241m=\u001b[39mconfig[CONF]\u001b[38;5;241m.\u001b[39mget(CONFIG_KEY_NODE_FINISHED),\n\u001b[1;32m   2497\u001b[0m     )\n\u001b[1;32m   2498\u001b[0m     \u001b[38;5;66;03m# enable subgraph streaming\u001b[39;00m\n",
      "File \u001b[0;32m~/.pyenv/versions/3.10.13/lib/python3.10/site-packages/langgraph/pregel/loop.py:1040\u001b[0m, in \u001b[0;36mSyncPregelLoop.__enter__\u001b[0;34m(self)\u001b[0m\n\u001b[1;32m   1038\u001b[0m \u001b[38;5;28mself\u001b[39m\u001b[38;5;241m.\u001b[39mstop \u001b[38;5;241m=\u001b[39m \u001b[38;5;28mself\u001b[39m\u001b[38;5;241m.\u001b[39mstep \u001b[38;5;241m+\u001b[39m \u001b[38;5;28mself\u001b[39m\u001b[38;5;241m.\u001b[39mconfig[\u001b[38;5;124m\"\u001b[39m\u001b[38;5;124mrecursion_limit\u001b[39m\u001b[38;5;124m\"\u001b[39m] \u001b[38;5;241m+\u001b[39m \u001b[38;5;241m1\u001b[39m\n\u001b[1;32m   1039\u001b[0m \u001b[38;5;28mself\u001b[39m\u001b[38;5;241m.\u001b[39mcheckpoint_previous_versions \u001b[38;5;241m=\u001b[39m \u001b[38;5;28mself\u001b[39m\u001b[38;5;241m.\u001b[39mcheckpoint[\u001b[38;5;124m\"\u001b[39m\u001b[38;5;124mchannel_versions\u001b[39m\u001b[38;5;124m\"\u001b[39m]\u001b[38;5;241m.\u001b[39mcopy()\n\u001b[0;32m-> 1040\u001b[0m \u001b[38;5;28mself\u001b[39m\u001b[38;5;241m.\u001b[39mupdated_channels \u001b[38;5;241m=\u001b[39m \u001b[38;5;28;43mself\u001b[39;49m\u001b[38;5;241;43m.\u001b[39;49m\u001b[43m_first\u001b[49m\u001b[43m(\u001b[49m\u001b[43minput_keys\u001b[49m\u001b[38;5;241;43m=\u001b[39;49m\u001b[38;5;28;43mself\u001b[39;49m\u001b[38;5;241;43m.\u001b[39;49m\u001b[43minput_keys\u001b[49m\u001b[43m)\u001b[49m\n\u001b[1;32m   1042\u001b[0m \u001b[38;5;28;01mreturn\u001b[39;00m \u001b[38;5;28mself\u001b[39m\n",
      "File \u001b[0;32m~/.pyenv/versions/3.10.13/lib/python3.10/site-packages/langgraph/pregel/loop.py:667\u001b[0m, in \u001b[0;36mPregelLoop._first\u001b[0;34m(self, input_keys)\u001b[0m\n\u001b[1;32m    665\u001b[0m     \u001b[38;5;28mself\u001b[39m\u001b[38;5;241m.\u001b[39m_put_checkpoint({\u001b[38;5;124m\"\u001b[39m\u001b[38;5;124msource\u001b[39m\u001b[38;5;124m\"\u001b[39m: \u001b[38;5;124m\"\u001b[39m\u001b[38;5;124minput\u001b[39m\u001b[38;5;124m\"\u001b[39m})\n\u001b[1;32m    666\u001b[0m \u001b[38;5;28;01melif\u001b[39;00m CONFIG_KEY_RESUMING \u001b[38;5;129;01mnot\u001b[39;00m \u001b[38;5;129;01min\u001b[39;00m configurable:\n\u001b[0;32m--> 667\u001b[0m     \u001b[38;5;28;01mraise\u001b[39;00m EmptyInputError(\u001b[38;5;124mf\u001b[39m\u001b[38;5;124m\"\u001b[39m\u001b[38;5;124mReceived no input for \u001b[39m\u001b[38;5;132;01m{\u001b[39;00minput_keys\u001b[38;5;132;01m}\u001b[39;00m\u001b[38;5;124m\"\u001b[39m)\n\u001b[1;32m    668\u001b[0m \u001b[38;5;66;03m# update config\u001b[39;00m\n\u001b[1;32m    669\u001b[0m \u001b[38;5;28;01mif\u001b[39;00m \u001b[38;5;129;01mnot\u001b[39;00m \u001b[38;5;28mself\u001b[39m\u001b[38;5;241m.\u001b[39mis_nested:\n",
      "\u001b[0;31mEmptyInputError\u001b[0m: Received no input for __start__"
     ]
    }
   ],
   "source": [
    "workflow.invoke(None, config={\"configurable\": {\"thread_id\": \"1\", \"checkpoint_id\": \"1f0700a1-aeeb-65f2-8000-e7e09abe8280\"}})"
   ]
  },
  {
   "cell_type": "code",
   "execution_count": null,
   "id": "12f77785",
   "metadata": {},
   "outputs": [
    {
     "data": {
      "text/plain": [
       "[StateSnapshot(values={'topic': 'pizza', 'joke': 'Why did the pizza go to the doctor? Because it was feeling a little saucy!', 'explanation': 'This joke plays on the double meaning of the word \"saucy.\" In one sense, \"saucy\" means bold, cheeky, or sassy. In the other sense, \"saucy\" can also refer to having an excess of sauce, like on a pizza. So, the joke is saying that the pizza went to the doctor because it was feeling sassy (saucy), but it can also be interpreted as the pizza going to the doctor because it had too much sauce.'}, next=(), config={'configurable': {'thread_id': '1', 'checkpoint_ns': '', 'checkpoint_id': '1f0700f1-f806-676e-8002-5759bcdf9048'}}, metadata={'source': 'loop', 'step': 2, 'parents': {}, 'thread_id': '1'}, created_at='2025-08-03T02:11:10.381414+00:00', parent_config={'configurable': {'thread_id': '1', 'checkpoint_ns': '', 'checkpoint_id': '1f0700f1-eb7b-609e-8001-d6385fa39939'}}, tasks=(), interrupts=()),\n",
       " StateSnapshot(values={'topic': 'pizza', 'joke': 'Why did the pizza go to the doctor? Because it was feeling a little saucy!'}, next=('explain_joke',), config={'configurable': {'thread_id': '1', 'checkpoint_ns': '', 'checkpoint_id': '1f0700f1-eb7b-609e-8001-d6385fa39939'}}, metadata={'source': 'loop', 'step': 1, 'parents': {}, 'thread_id': '1'}, created_at='2025-08-03T02:11:09.066023+00:00', parent_config={'configurable': {'thread_id': '1', 'checkpoint_ns': '', 'checkpoint_id': '1f0700a1-aeeb-65f2-8000-e7e09abe8280'}}, tasks=(PregelTask(id='63cdadc4-279c-e077-1d5a-60bc3a43ac96', name='explain_joke', path=('__pregel_pull', 'explain_joke'), error=None, interrupts=(), state=None, result={'explanation': 'This joke plays on the double meaning of the word \"saucy.\" In one sense, \"saucy\" means bold, cheeky, or sassy. In the other sense, \"saucy\" can also refer to having an excess of sauce, like on a pizza. So, the joke is saying that the pizza went to the doctor because it was feeling sassy (saucy), but it can also be interpreted as the pizza going to the doctor because it had too much sauce.'}),), interrupts=()),\n",
       " StateSnapshot(values={'topic': 'pizza', 'joke': 'Why did the slice of pizza go to the party? \\nBecause he knew he would be a big hit!', 'explanation': 'This joke plays on the double meaning of the phrase \"big hit.\" In one sense, it can mean being very popular or successful at an event, which is why the slice of pizza went to the party - because it knew it would be a hit with the guests. In another sense, a \"big hit\" can refer to something being physically struck or hit, which is why the joke is funny - because pizza slices are often cut into triangular shapes, resembling a piece that has been \"hit\" or cut. Overall, the humor comes from the clever wordplay and the unexpected twist on the phrase.'}, next=(), config={'configurable': {'thread_id': '1', 'checkpoint_ns': '', 'checkpoint_id': '1f0700a1-ca84-61d8-8002-af55dc74ff26'}}, metadata={'source': 'loop', 'step': 2, 'parents': {}, 'thread_id': '1'}, created_at='2025-08-03T01:35:18.125795+00:00', parent_config={'configurable': {'thread_id': '1', 'checkpoint_ns': '', 'checkpoint_id': '1f0700a1-b768-69b4-8001-f3b5443dbb7d'}}, tasks=(), interrupts=()),\n",
       " StateSnapshot(values={'topic': 'pizza', 'joke': 'Why did the slice of pizza go to the party? \\nBecause he knew he would be a big hit!'}, next=('explain_joke',), config={'configurable': {'thread_id': '1', 'checkpoint_ns': '', 'checkpoint_id': '1f0700a1-b768-69b4-8001-f3b5443dbb7d'}}, metadata={'source': 'loop', 'step': 1, 'parents': {}, 'thread_id': '1'}, created_at='2025-08-03T01:35:16.122234+00:00', parent_config={'configurable': {'thread_id': '1', 'checkpoint_ns': '', 'checkpoint_id': '1f0700a1-aeeb-65f2-8000-e7e09abe8280'}}, tasks=(PregelTask(id='0e21200a-6b7a-2523-7009-7efb58cff28e', name='explain_joke', path=('__pregel_pull', 'explain_joke'), error=None, interrupts=(), state=None, result={'explanation': 'This joke plays on the double meaning of the phrase \"big hit.\" In one sense, it can mean being very popular or successful at an event, which is why the slice of pizza went to the party - because it knew it would be a hit with the guests. In another sense, a \"big hit\" can refer to something being physically struck or hit, which is why the joke is funny - because pizza slices are often cut into triangular shapes, resembling a piece that has been \"hit\" or cut. Overall, the humor comes from the clever wordplay and the unexpected twist on the phrase.'}),), interrupts=()),\n",
       " StateSnapshot(values={'topic': 'pizza'}, next=('generate_joke',), config={'configurable': {'thread_id': '1', 'checkpoint_ns': '', 'checkpoint_id': '1f0700a1-aeeb-65f2-8000-e7e09abe8280'}}, metadata={'source': 'loop', 'step': 0, 'parents': {}, 'thread_id': '1'}, created_at='2025-08-03T01:35:15.232096+00:00', parent_config={'configurable': {'thread_id': '1', 'checkpoint_ns': '', 'checkpoint_id': '1f0700a1-aee9-6d4c-bfff-be0225566899'}}, tasks=(PregelTask(id='0f985edf-da10-3381-59cc-f69136baeae6', name='generate_joke', path=('__pregel_pull', 'generate_joke'), error=None, interrupts=(), state=None, result={'joke': 'Why did the slice of pizza go to the party? \\nBecause he knew he would be a big hit!'}),), interrupts=()),\n",
       " StateSnapshot(values={}, next=('__start__',), config={'configurable': {'thread_id': '1', 'checkpoint_ns': '', 'checkpoint_id': '1f0700a1-aee9-6d4c-bfff-be0225566899'}}, metadata={'source': 'input', 'step': -1, 'parents': {}, 'thread_id': '1'}, created_at='2025-08-03T01:35:15.231465+00:00', parent_config=None, tasks=(PregelTask(id='4856da66-1b87-4e0d-bc75-c5bca94daaf1', name='__start__', path=('__pregel_pull', '__start__'), error=None, interrupts=(), state=None, result={'topic': 'pizza'}),), interrupts=())]"
      ]
     },
     "execution_count": 25,
     "metadata": {},
     "output_type": "execute_result"
    }
   ],
   "source": [
    "list(workflow.get_state_history(config=initial_config))"
   ]
  },
  {
   "cell_type": "markdown",
   "id": "ee025800",
   "metadata": {},
   "source": [
    "## Updating State"
   ]
  },
  {
   "cell_type": "code",
   "execution_count": null,
   "id": "0f83ea01",
   "metadata": {},
   "outputs": [
    {
     "data": {
      "text/plain": [
       "{'configurable': {'thread_id': '1',\n",
       "  'checkpoint_ns': '',\n",
       "  'checkpoint_id': '1f070101-beb9-667c-8001-03ffc0794ff7'}}"
      ]
     },
     "execution_count": 28,
     "metadata": {},
     "output_type": "execute_result"
    }
   ],
   "source": [
    "workflow.update_state({\"configurable\": {\"thread_id\": \"1\", \"checkpoint_id\": \"1f0700a1-aeeb-65f2-8000-e7e09abe8280\", \"checkpoint_ns\": \"\"}}, {\"topic\": \"books\"})"
   ]
  },
  {
   "cell_type": "code",
   "execution_count": null,
   "id": "e1ae98e1",
   "metadata": {},
   "outputs": [
    {
     "data": {
      "text/plain": [
       "[StateSnapshot(values={'topic': 'books'}, next=('generate_joke',), config={'configurable': {'thread_id': '1', 'checkpoint_ns': '', 'checkpoint_id': '1f070101-beb9-667c-8001-03ffc0794ff7'}}, metadata={'source': 'update', 'step': 1, 'parents': {}, 'thread_id': '1'}, created_at='2025-08-03T02:18:13.869715+00:00', parent_config={'configurable': {'thread_id': '1', 'checkpoint_ns': '', 'checkpoint_id': '1f0700a1-aeeb-65f2-8000-e7e09abe8280'}}, tasks=(PregelTask(id='bdca4260-7f14-c683-ad76-6e22231b8f0b', name='generate_joke', path=('__pregel_pull', 'generate_joke'), error=None, interrupts=(), state=None, result=None),), interrupts=()),\n",
       " StateSnapshot(values={'topic': 'pizza', 'joke': 'Why did the pizza go to the doctor? Because it was feeling a little saucy!', 'explanation': 'This joke plays on the double meaning of the word \"saucy.\" In one sense, \"saucy\" means bold, cheeky, or sassy. In the other sense, \"saucy\" can also refer to having an excess of sauce, like on a pizza. So, the joke is saying that the pizza went to the doctor because it was feeling sassy (saucy), but it can also be interpreted as the pizza going to the doctor because it had too much sauce.'}, next=(), config={'configurable': {'thread_id': '1', 'checkpoint_ns': '', 'checkpoint_id': '1f0700f1-f806-676e-8002-5759bcdf9048'}}, metadata={'source': 'loop', 'step': 2, 'parents': {}, 'thread_id': '1'}, created_at='2025-08-03T02:11:10.381414+00:00', parent_config={'configurable': {'thread_id': '1', 'checkpoint_ns': '', 'checkpoint_id': '1f0700f1-eb7b-609e-8001-d6385fa39939'}}, tasks=(), interrupts=()),\n",
       " StateSnapshot(values={'topic': 'pizza', 'joke': 'Why did the pizza go to the doctor? Because it was feeling a little saucy!'}, next=('explain_joke',), config={'configurable': {'thread_id': '1', 'checkpoint_ns': '', 'checkpoint_id': '1f0700f1-eb7b-609e-8001-d6385fa39939'}}, metadata={'source': 'loop', 'step': 1, 'parents': {}, 'thread_id': '1'}, created_at='2025-08-03T02:11:09.066023+00:00', parent_config={'configurable': {'thread_id': '1', 'checkpoint_ns': '', 'checkpoint_id': '1f0700a1-aeeb-65f2-8000-e7e09abe8280'}}, tasks=(PregelTask(id='63cdadc4-279c-e077-1d5a-60bc3a43ac96', name='explain_joke', path=('__pregel_pull', 'explain_joke'), error=None, interrupts=(), state=None, result={'explanation': 'This joke plays on the double meaning of the word \"saucy.\" In one sense, \"saucy\" means bold, cheeky, or sassy. In the other sense, \"saucy\" can also refer to having an excess of sauce, like on a pizza. So, the joke is saying that the pizza went to the doctor because it was feeling sassy (saucy), but it can also be interpreted as the pizza going to the doctor because it had too much sauce.'}),), interrupts=()),\n",
       " StateSnapshot(values={'topic': 'pizza', 'joke': 'Why did the slice of pizza go to the party? \\nBecause he knew he would be a big hit!', 'explanation': 'This joke plays on the double meaning of the phrase \"big hit.\" In one sense, it can mean being very popular or successful at an event, which is why the slice of pizza went to the party - because it knew it would be a hit with the guests. In another sense, a \"big hit\" can refer to something being physically struck or hit, which is why the joke is funny - because pizza slices are often cut into triangular shapes, resembling a piece that has been \"hit\" or cut. Overall, the humor comes from the clever wordplay and the unexpected twist on the phrase.'}, next=(), config={'configurable': {'thread_id': '1', 'checkpoint_ns': '', 'checkpoint_id': '1f0700a1-ca84-61d8-8002-af55dc74ff26'}}, metadata={'source': 'loop', 'step': 2, 'parents': {}, 'thread_id': '1'}, created_at='2025-08-03T01:35:18.125795+00:00', parent_config={'configurable': {'thread_id': '1', 'checkpoint_ns': '', 'checkpoint_id': '1f0700a1-b768-69b4-8001-f3b5443dbb7d'}}, tasks=(), interrupts=()),\n",
       " StateSnapshot(values={'topic': 'pizza', 'joke': 'Why did the slice of pizza go to the party? \\nBecause he knew he would be a big hit!'}, next=('explain_joke',), config={'configurable': {'thread_id': '1', 'checkpoint_ns': '', 'checkpoint_id': '1f0700a1-b768-69b4-8001-f3b5443dbb7d'}}, metadata={'source': 'loop', 'step': 1, 'parents': {}, 'thread_id': '1'}, created_at='2025-08-03T01:35:16.122234+00:00', parent_config={'configurable': {'thread_id': '1', 'checkpoint_ns': '', 'checkpoint_id': '1f0700a1-aeeb-65f2-8000-e7e09abe8280'}}, tasks=(PregelTask(id='0e21200a-6b7a-2523-7009-7efb58cff28e', name='explain_joke', path=('__pregel_pull', 'explain_joke'), error=None, interrupts=(), state=None, result={'explanation': 'This joke plays on the double meaning of the phrase \"big hit.\" In one sense, it can mean being very popular or successful at an event, which is why the slice of pizza went to the party - because it knew it would be a hit with the guests. In another sense, a \"big hit\" can refer to something being physically struck or hit, which is why the joke is funny - because pizza slices are often cut into triangular shapes, resembling a piece that has been \"hit\" or cut. Overall, the humor comes from the clever wordplay and the unexpected twist on the phrase.'}),), interrupts=()),\n",
       " StateSnapshot(values={'topic': 'pizza'}, next=('generate_joke',), config={'configurable': {'thread_id': '1', 'checkpoint_ns': '', 'checkpoint_id': '1f0700a1-aeeb-65f2-8000-e7e09abe8280'}}, metadata={'source': 'loop', 'step': 0, 'parents': {}, 'thread_id': '1'}, created_at='2025-08-03T01:35:15.232096+00:00', parent_config={'configurable': {'thread_id': '1', 'checkpoint_ns': '', 'checkpoint_id': '1f0700a1-aee9-6d4c-bfff-be0225566899'}}, tasks=(PregelTask(id='0f985edf-da10-3381-59cc-f69136baeae6', name='generate_joke', path=('__pregel_pull', 'generate_joke'), error=None, interrupts=(), state=None, result={'joke': 'Why did the slice of pizza go to the party? \\nBecause he knew he would be a big hit!'}),), interrupts=()),\n",
       " StateSnapshot(values={}, next=('__start__',), config={'configurable': {'thread_id': '1', 'checkpoint_ns': '', 'checkpoint_id': '1f0700a1-aee9-6d4c-bfff-be0225566899'}}, metadata={'source': 'input', 'step': -1, 'parents': {}, 'thread_id': '1'}, created_at='2025-08-03T01:35:15.231465+00:00', parent_config=None, tasks=(PregelTask(id='4856da66-1b87-4e0d-bc75-c5bca94daaf1', name='__start__', path=('__pregel_pull', '__start__'), error=None, interrupts=(), state=None, result={'topic': 'pizza'}),), interrupts=())]"
      ]
     },
     "execution_count": 30,
     "metadata": {},
     "output_type": "execute_result"
    }
   ],
   "source": [
    "list(workflow.get_state_history(config=initial_config))"
   ]
  },
  {
   "cell_type": "code",
   "execution_count": null,
   "id": "fae66bd7",
   "metadata": {},
   "outputs": [
    {
     "data": {
      "text/plain": [
       "{'topic': 'books',\n",
       " 'joke': 'Why did the book go to the therapist? Because it had too many unresolved plot twists!',\n",
       " 'explanation': 'This joke is playing on the idea that books often have complex and intricate plotlines with unexpected twists and turns. By saying that the book went to therapy because it had too many unresolved plot twists, it is implying that the book is struggling to make sense of its own story and is seeking emotional support to try and work through its issues. It humorously personifies the book and gives it human-like traits, making the punchline even more amusing.'}"
      ]
     },
     "execution_count": 32,
     "metadata": {},
     "output_type": "execute_result"
    }
   ],
   "source": [
    "workflow.invoke(None, config={\"configurable\": {\"thread_id\": \"1\", \"checkpoint_id\": \"1f070101-beb9-667c-8001-03ffc0794ff7\"}})"
   ]
  },
  {
   "cell_type": "code",
   "execution_count": null,
   "id": "82316200",
   "metadata": {},
   "outputs": [
    {
     "data": {
      "text/plain": [
       "[StateSnapshot(values={'topic': 'books', 'joke': 'Why did the book go to the therapist? Because it had too many unresolved plot twists!', 'explanation': 'This joke is playing on the idea that books often have complex and intricate plotlines with unexpected twists and turns. By saying that the book went to therapy because it had too many unresolved plot twists, it is implying that the book is struggling to make sense of its own story and is seeking emotional support to try and work through its issues. It humorously personifies the book and gives it human-like traits, making the punchline even more amusing.'}, next=(), config={'configurable': {'thread_id': '1', 'checkpoint_ns': '', 'checkpoint_id': '1f07010c-6743-6fd6-8003-19963329c227'}}, metadata={'source': 'loop', 'step': 3, 'parents': {}, 'thread_id': '1'}, created_at='2025-08-03T02:22:59.977992+00:00', parent_config={'configurable': {'thread_id': '1', 'checkpoint_ns': '', 'checkpoint_id': '1f07010c-5cfa-6002-8002-fb5e6e211efe'}}, tasks=(), interrupts=()),\n",
       " StateSnapshot(values={'topic': 'books', 'joke': 'Why did the book go to the therapist? Because it had too many unresolved plot twists!'}, next=('explain_joke',), config={'configurable': {'thread_id': '1', 'checkpoint_ns': '', 'checkpoint_id': '1f07010c-5cfa-6002-8002-fb5e6e211efe'}}, metadata={'source': 'loop', 'step': 2, 'parents': {}, 'thread_id': '1'}, created_at='2025-08-03T02:22:58.899121+00:00', parent_config={'configurable': {'thread_id': '1', 'checkpoint_ns': '', 'checkpoint_id': '1f070101-beb9-667c-8001-03ffc0794ff7'}}, tasks=(PregelTask(id='77bf006b-dea8-f946-503a-780690826035', name='explain_joke', path=('__pregel_pull', 'explain_joke'), error=None, interrupts=(), state=None, result={'explanation': 'This joke is playing on the idea that books often have complex and intricate plotlines with unexpected twists and turns. By saying that the book went to therapy because it had too many unresolved plot twists, it is implying that the book is struggling to make sense of its own story and is seeking emotional support to try and work through its issues. It humorously personifies the book and gives it human-like traits, making the punchline even more amusing.'}),), interrupts=()),\n",
       " StateSnapshot(values={'topic': 'pizza', 'joke': 'Why did the pizza go to the doctor? Because it was feeling a little crusty!', 'explanation': 'This joke is a play on words, using the word \"crusty\" to describe both the texture of the pizza and someone who is not feeling well. In this case, the pizza went to the doctor because it was feeling crusty, meaning it was not in good condition and needed some medical attention. The humor comes from the unexpected twist of the pizza being the one seeking medical help, as well as the word play on the pizza crust being crusty.'}, next=(), config={'configurable': {'thread_id': '1', 'checkpoint_ns': '', 'checkpoint_id': '1f070106-fc0d-63c0-8002-6eb6e7e99f2a'}}, metadata={'source': 'loop', 'step': 2, 'parents': {}, 'thread_id': '1'}, created_at='2025-08-03T02:20:34.518079+00:00', parent_config={'configurable': {'thread_id': '1', 'checkpoint_ns': '', 'checkpoint_id': '1f070106-ef78-61a0-8001-0926f20c0a0f'}}, tasks=(), interrupts=()),\n",
       " StateSnapshot(values={'topic': 'pizza', 'joke': 'Why did the pizza go to the doctor? Because it was feeling a little crusty!'}, next=('explain_joke',), config={'configurable': {'thread_id': '1', 'checkpoint_ns': '', 'checkpoint_id': '1f070106-ef78-61a0-8001-0926f20c0a0f'}}, metadata={'source': 'loop', 'step': 1, 'parents': {}, 'thread_id': '1'}, created_at='2025-08-03T02:20:33.198715+00:00', parent_config={'configurable': {'thread_id': '1', 'checkpoint_ns': '', 'checkpoint_id': '1f0700a1-aeeb-65f2-8000-e7e09abe8280'}}, tasks=(PregelTask(id='9dea2f59-f104-ca54-ac14-9abe66a53684', name='explain_joke', path=('__pregel_pull', 'explain_joke'), error=None, interrupts=(), state=None, result={'explanation': 'This joke is a play on words, using the word \"crusty\" to describe both the texture of the pizza and someone who is not feeling well. In this case, the pizza went to the doctor because it was feeling crusty, meaning it was not in good condition and needed some medical attention. The humor comes from the unexpected twist of the pizza being the one seeking medical help, as well as the word play on the pizza crust being crusty.'}),), interrupts=()),\n",
       " StateSnapshot(values={'topic': 'books'}, next=('generate_joke',), config={'configurable': {'thread_id': '1', 'checkpoint_ns': '', 'checkpoint_id': '1f070101-beb9-667c-8001-03ffc0794ff7'}}, metadata={'source': 'update', 'step': 1, 'parents': {}, 'thread_id': '1'}, created_at='2025-08-03T02:18:13.869715+00:00', parent_config={'configurable': {'thread_id': '1', 'checkpoint_ns': '', 'checkpoint_id': '1f0700a1-aeeb-65f2-8000-e7e09abe8280'}}, tasks=(PregelTask(id='bdca4260-7f14-c683-ad76-6e22231b8f0b', name='generate_joke', path=('__pregel_pull', 'generate_joke'), error=None, interrupts=(), state=None, result={'joke': 'Why did the book go to the therapist? Because it had too many unresolved plot twists!'}),), interrupts=()),\n",
       " StateSnapshot(values={'topic': 'pizza', 'joke': 'Why did the pizza go to the doctor? Because it was feeling a little saucy!', 'explanation': 'This joke plays on the double meaning of the word \"saucy.\" In one sense, \"saucy\" means bold, cheeky, or sassy. In the other sense, \"saucy\" can also refer to having an excess of sauce, like on a pizza. So, the joke is saying that the pizza went to the doctor because it was feeling sassy (saucy), but it can also be interpreted as the pizza going to the doctor because it had too much sauce.'}, next=(), config={'configurable': {'thread_id': '1', 'checkpoint_ns': '', 'checkpoint_id': '1f0700f1-f806-676e-8002-5759bcdf9048'}}, metadata={'source': 'loop', 'step': 2, 'parents': {}, 'thread_id': '1'}, created_at='2025-08-03T02:11:10.381414+00:00', parent_config={'configurable': {'thread_id': '1', 'checkpoint_ns': '', 'checkpoint_id': '1f0700f1-eb7b-609e-8001-d6385fa39939'}}, tasks=(), interrupts=()),\n",
       " StateSnapshot(values={'topic': 'pizza', 'joke': 'Why did the pizza go to the doctor? Because it was feeling a little saucy!'}, next=('explain_joke',), config={'configurable': {'thread_id': '1', 'checkpoint_ns': '', 'checkpoint_id': '1f0700f1-eb7b-609e-8001-d6385fa39939'}}, metadata={'source': 'loop', 'step': 1, 'parents': {}, 'thread_id': '1'}, created_at='2025-08-03T02:11:09.066023+00:00', parent_config={'configurable': {'thread_id': '1', 'checkpoint_ns': '', 'checkpoint_id': '1f0700a1-aeeb-65f2-8000-e7e09abe8280'}}, tasks=(PregelTask(id='63cdadc4-279c-e077-1d5a-60bc3a43ac96', name='explain_joke', path=('__pregel_pull', 'explain_joke'), error=None, interrupts=(), state=None, result={'explanation': 'This joke plays on the double meaning of the word \"saucy.\" In one sense, \"saucy\" means bold, cheeky, or sassy. In the other sense, \"saucy\" can also refer to having an excess of sauce, like on a pizza. So, the joke is saying that the pizza went to the doctor because it was feeling sassy (saucy), but it can also be interpreted as the pizza going to the doctor because it had too much sauce.'}),), interrupts=()),\n",
       " StateSnapshot(values={'topic': 'pizza', 'joke': 'Why did the slice of pizza go to the party? \\nBecause he knew he would be a big hit!', 'explanation': 'This joke plays on the double meaning of the phrase \"big hit.\" In one sense, it can mean being very popular or successful at an event, which is why the slice of pizza went to the party - because it knew it would be a hit with the guests. In another sense, a \"big hit\" can refer to something being physically struck or hit, which is why the joke is funny - because pizza slices are often cut into triangular shapes, resembling a piece that has been \"hit\" or cut. Overall, the humor comes from the clever wordplay and the unexpected twist on the phrase.'}, next=(), config={'configurable': {'thread_id': '1', 'checkpoint_ns': '', 'checkpoint_id': '1f0700a1-ca84-61d8-8002-af55dc74ff26'}}, metadata={'source': 'loop', 'step': 2, 'parents': {}, 'thread_id': '1'}, created_at='2025-08-03T01:35:18.125795+00:00', parent_config={'configurable': {'thread_id': '1', 'checkpoint_ns': '', 'checkpoint_id': '1f0700a1-b768-69b4-8001-f3b5443dbb7d'}}, tasks=(), interrupts=()),\n",
       " StateSnapshot(values={'topic': 'pizza', 'joke': 'Why did the slice of pizza go to the party? \\nBecause he knew he would be a big hit!'}, next=('explain_joke',), config={'configurable': {'thread_id': '1', 'checkpoint_ns': '', 'checkpoint_id': '1f0700a1-b768-69b4-8001-f3b5443dbb7d'}}, metadata={'source': 'loop', 'step': 1, 'parents': {}, 'thread_id': '1'}, created_at='2025-08-03T01:35:16.122234+00:00', parent_config={'configurable': {'thread_id': '1', 'checkpoint_ns': '', 'checkpoint_id': '1f0700a1-aeeb-65f2-8000-e7e09abe8280'}}, tasks=(PregelTask(id='0e21200a-6b7a-2523-7009-7efb58cff28e', name='explain_joke', path=('__pregel_pull', 'explain_joke'), error=None, interrupts=(), state=None, result={'explanation': 'This joke plays on the double meaning of the phrase \"big hit.\" In one sense, it can mean being very popular or successful at an event, which is why the slice of pizza went to the party - because it knew it would be a hit with the guests. In another sense, a \"big hit\" can refer to something being physically struck or hit, which is why the joke is funny - because pizza slices are often cut into triangular shapes, resembling a piece that has been \"hit\" or cut. Overall, the humor comes from the clever wordplay and the unexpected twist on the phrase.'}),), interrupts=()),\n",
       " StateSnapshot(values={'topic': 'pizza'}, next=('generate_joke',), config={'configurable': {'thread_id': '1', 'checkpoint_ns': '', 'checkpoint_id': '1f0700a1-aeeb-65f2-8000-e7e09abe8280'}}, metadata={'source': 'loop', 'step': 0, 'parents': {}, 'thread_id': '1'}, created_at='2025-08-03T01:35:15.232096+00:00', parent_config={'configurable': {'thread_id': '1', 'checkpoint_ns': '', 'checkpoint_id': '1f0700a1-aee9-6d4c-bfff-be0225566899'}}, tasks=(PregelTask(id='0f985edf-da10-3381-59cc-f69136baeae6', name='generate_joke', path=('__pregel_pull', 'generate_joke'), error=None, interrupts=(), state=None, result={'joke': 'Why did the slice of pizza go to the party? \\nBecause he knew he would be a big hit!'}),), interrupts=()),\n",
       " StateSnapshot(values={}, next=('__start__',), config={'configurable': {'thread_id': '1', 'checkpoint_ns': '', 'checkpoint_id': '1f0700a1-aee9-6d4c-bfff-be0225566899'}}, metadata={'source': 'input', 'step': -1, 'parents': {}, 'thread_id': '1'}, created_at='2025-08-03T01:35:15.231465+00:00', parent_config=None, tasks=(PregelTask(id='4856da66-1b87-4e0d-bc75-c5bca94daaf1', name='__start__', path=('__pregel_pull', '__start__'), error=None, interrupts=(), state=None, result={'topic': 'pizza'}),), interrupts=())]"
      ]
     },
     "execution_count": 33,
     "metadata": {},
     "output_type": "execute_result"
    }
   ],
   "source": [
    "list(workflow.get_state_history(config=initial_config))"
   ]
  }
 ],
 "metadata": {
  "kernelspec": {
   "display_name": "3.10.13",
   "language": "python",
   "name": "python3"
  },
  "language_info": {
   "codemirror_mode": {
    "name": "ipython",
    "version": 3
   },
   "file_extension": ".py",
   "mimetype": "text/x-python",
   "name": "python",
   "nbconvert_exporter": "python",
   "pygments_lexer": "ipython3",
   "version": "3.10.13"
  }
 },
 "nbformat": 4,
 "nbformat_minor": 5
}
